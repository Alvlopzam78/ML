{
 "cells": [
  {
   "cell_type": "code",
   "execution_count": 4,
   "metadata": {},
   "outputs": [],
   "source": [
    "import pandas as pd\n",
    "import numpy as np"
   ]
  },
  {
   "cell_type": "code",
   "execution_count": 8,
   "metadata": {},
   "outputs": [],
   "source": [
    "def classBayesTrue(dataSet, label):\n",
    "    dataSetTrue = dataSet[dataSet[label]==True]\n",
    "    p = (dataSetTrue[label].count()/dataSet[label].count()) #CHECAR AQUI LA P Y QUIEN ES LA Y\n",
    "    logp = np.log(p)\n",
    "    for i in dataSet.columns:\n",
    "        suma = 0\n",
    "        sigma = np.std(dataSet[i])\n",
    "        mu = np.mean(dataSet[i])\n",
    "        logsigma = np.log(1/(sigma * np.sqrt(2*np.pi)))\n",
    "        for j in dataSet[i]:\n",
    "            suma = suma + (logsigma - ((1/2)*(pow(j-mu,2)/pow(sigma, 2))))\n",
    "        \n",
    "        "
   ]
  },
  {
   "cell_type": "code",
   "execution_count": null,
   "metadata": {},
   "outputs": [],
   "source": []
  }
 ],
 "metadata": {
  "interpreter": {
   "hash": "a8579d81bda5ba760f7253e6196e20c9a7ac6cb75ec1760da340570349d1aa57"
  },
  "kernelspec": {
   "display_name": "Python 3.8.5 ('base')",
   "language": "python",
   "name": "python3"
  },
  "language_info": {
   "codemirror_mode": {
    "name": "ipython",
    "version": 3
   },
   "file_extension": ".py",
   "mimetype": "text/x-python",
   "name": "python",
   "nbconvert_exporter": "python",
   "pygments_lexer": "ipython3",
   "version": "3.8.5"
  },
  "orig_nbformat": 4
 },
 "nbformat": 4,
 "nbformat_minor": 2
}
